{
 "cells": [
  {
   "cell_type": "code",
   "execution_count": 2,
   "id": "caac9e46",
   "metadata": {
    "ExecuteTime": {
     "end_time": "2023-05-10T08:48:40.875198Z",
     "start_time": "2023-05-10T08:48:38.788144Z"
    }
   },
   "outputs": [
    {
     "name": "stdout",
     "output_type": "stream",
     "text": [
      "Requirement already satisfied: nodepy in c:\\users\\peter dobrovoczki\\anaconda3\\envs\\notebook\\lib\\site-packages (1.0.1)\n",
      "Requirement already satisfied: sympy in c:\\users\\peter dobrovoczki\\anaconda3\\envs\\notebook\\lib\\site-packages (from nodepy) (1.8)\n",
      "Requirement already satisfied: numpy in c:\\users\\peter dobrovoczki\\anaconda3\\envs\\notebook\\lib\\site-packages (from nodepy) (1.20.2)\n",
      "Requirement already satisfied: matplotlib in c:\\users\\peter dobrovoczki\\anaconda3\\envs\\notebook\\lib\\site-packages (from nodepy) (3.4.1)\n",
      "Requirement already satisfied: python-dateutil>=2.7 in c:\\users\\peter dobrovoczki\\anaconda3\\envs\\notebook\\lib\\site-packages (from matplotlib->nodepy) (2.8.1)\n",
      "Requirement already satisfied: kiwisolver>=1.0.1 in c:\\users\\peter dobrovoczki\\anaconda3\\envs\\notebook\\lib\\site-packages (from matplotlib->nodepy) (1.3.1)\n",
      "Requirement already satisfied: cycler>=0.10 in c:\\users\\peter dobrovoczki\\anaconda3\\envs\\notebook\\lib\\site-packages (from matplotlib->nodepy) (0.10.0)\n",
      "Requirement already satisfied: pillow>=6.2.0 in c:\\users\\peter dobrovoczki\\anaconda3\\envs\\notebook\\lib\\site-packages (from matplotlib->nodepy) (8.2.0)\n",
      "Requirement already satisfied: pyparsing>=2.2.1 in c:\\users\\peter dobrovoczki\\anaconda3\\envs\\notebook\\lib\\site-packages (from matplotlib->nodepy) (2.4.7)\n",
      "Requirement already satisfied: six in c:\\users\\peter dobrovoczki\\anaconda3\\envs\\notebook\\lib\\site-packages (from cycler>=0.10->matplotlib->nodepy) (1.15.0)\n",
      "Requirement already satisfied: mpmath>=0.19 in c:\\users\\peter dobrovoczki\\anaconda3\\envs\\notebook\\lib\\site-packages (from sympy->nodepy) (1.2.1)\n"
     ]
    }
   ],
   "source": [
    "!pip install nodepy"
   ]
  },
  {
   "cell_type": "code",
   "execution_count": 1,
   "id": "df636bff",
   "metadata": {
    "ExecuteTime": {
     "end_time": "2023-05-10T08:48:27.254134Z",
     "start_time": "2023-05-10T08:48:26.007000Z"
    }
   },
   "outputs": [],
   "source": [
    "import nodepy\n",
    "import matplotlib.pyplot as plt\n",
    "import numpy as np"
   ]
  },
  {
   "cell_type": "markdown",
   "id": "1963d3cf",
   "metadata": {},
   "source": [
    "# Differenciálegyenletek numerikus megoldási módszerei"
   ]
  },
  {
   "cell_type": "markdown",
   "id": "f98a9733",
   "metadata": {},
   "source": [
    "## Kezdeti érték probléma (Cauchy-feladat)\n",
    "\n",
    "Egy kezdeti érték probléma (KÉP) általános alakja az alábbi. Keressük azt az $y\\colon\\mathbb{R}\\to\\mathbb{R}^n$ függvényt, amely teljesíti az alábi egyenletet:\n",
    "\n",
    "$$\n",
    "    \\begin{array}{rcl}\n",
    "        y'(t) &=& f(t, y(t)) \\\\\n",
    "        y(0)  &=& y_0,\n",
    "    \\end{array}\n",
    "$$\n",
    "\n",
    "ahol $y_0\\in\\mathbb{R}^n$ és $f: \\mathbb{R}\\times\\mathbb{R}^n\\to \\mathbb{R}^d$ függvény."
   ]
  },
  {
   "cell_type": "markdown",
   "id": "b519b83c",
   "metadata": {},
   "source": [
    "## Numerikus módszerek (nagy vonalakban)\n",
    "Numeriksu módszerek esetében a valódi függvény egy *diszkretizált* változatát közelítjük, vagyis egy adott $\\omega = {t_0 < t_1 < \\dots < t_n}$ rácsháló pontjaiban közelítjük a keresett függvény valódi értékét:\n",
    "\n",
    "$$\n",
    "    y_i \\approx y(t_i),\n",
    "$$\n",
    "\n",
    "ahol $y_i$ a közelítés és $y(t_i)$ a valódi függvényérték az $i$-edik rácspontban. Amennyiben bármely két szomszédos rácspont különbsége azonos ($h$), *ekvidisztáns* rácsról van szó.\n",
    "\n",
    "Itt minden egyes közelítés az előző közelítés(ek)re épül, így sok kis hiba könnyen összeadódhat."
   ]
  },
  {
   "cell_type": "markdown",
   "id": "b8afd0b4",
   "metadata": {},
   "source": [
    "## A `nodepy` csomag\n",
    "\n",
    "A `nodepy` csomag numerikus KDE megoldók gyűjteménye. Egy solver példányosítható az alábbi módon:"
   ]
  },
  {
   "cell_type": "code",
   "execution_count": 3,
   "id": "5933a741",
   "metadata": {
    "ExecuteTime": {
     "end_time": "2023-05-10T08:48:46.526286Z",
     "start_time": "2023-05-10T08:48:46.387348Z"
    }
   },
   "outputs": [],
   "source": [
    "explicit_euler = nodepy.rk.loadRKM(\"FE\") # FE mint forward Euler módszer"
   ]
  },
  {
   "cell_type": "markdown",
   "id": "450f73eb",
   "metadata": {},
   "source": [
    "Egy diffegyenletet leíró függvény:\n",
    "\n",
    "$$\n",
    "    \\dot{y}(t) = 5y(t)\n",
    "$$\n",
    "\n",
    "ekkor az $f$ függvény az alábbi:\n",
    "\n",
    "$$\n",
    "    (t,y(t))\\mapsto 5y(t).\n",
    "$$\n",
    "\n",
    "Ennek python reprezentációja:"
   ]
  },
  {
   "cell_type": "code",
   "execution_count": 10,
   "id": "b9a31e3c",
   "metadata": {
    "ExecuteTime": {
     "end_time": "2023-05-10T08:49:14.834271Z",
     "start_time": "2023-05-10T08:49:14.818313Z"
    }
   },
   "outputs": [],
   "source": [
    "def f(t, y):\n",
    "    λ = 5\n",
    "    return λ * y * t"
   ]
  },
  {
   "cell_type": "markdown",
   "id": "b25adbe9",
   "metadata": {},
   "source": [
    "Szeretnénk megoldani a következő kezdetiérték problémát (_Initial value problem - IVP)_:\n",
    "\\begin{equation}\n",
    "    \\begin{array}{rcl}\n",
    "        \\dot{y}(t) & = & 5t\\cdot y(t)\\\\\n",
    "        y(0) & = & 1\n",
    "    \\end{array}\n",
    "\\end{equation}"
   ]
  },
  {
   "cell_type": "markdown",
   "id": "5844bc37",
   "metadata": {},
   "source": [
    "Egy kezdeti érték probléma objektum az alábbi módon inicializálható:"
   ]
  },
  {
   "cell_type": "code",
   "execution_count": 19,
   "id": "92e7cb69",
   "metadata": {
    "ExecuteTime": {
     "end_time": "2023-05-10T08:54:42.167790Z",
     "start_time": "2023-05-10T08:54:42.161804Z"
    }
   },
   "outputs": [],
   "source": [
    "my_ivp = nodepy.ivp.IVP(f = f,\n",
    "                        u0 = 1,\n",
    "                        t0 = 0,\n",
    "                        T = 1)"
   ]
  },
  {
   "cell_type": "markdown",
   "id": "56d6ee64",
   "metadata": {},
   "source": [
    "Ezt már oda lehet adni a korábban példányosított solvernek:"
   ]
  },
  {
   "cell_type": "code",
   "execution_count": 20,
   "id": "692d438a",
   "metadata": {
    "ExecuteTime": {
     "end_time": "2023-05-10T08:54:43.151585Z",
     "start_time": "2023-05-10T08:54:43.121664Z"
    }
   },
   "outputs": [],
   "source": [
    "t, y = explicit_euler(my_ivp, N = 100)"
   ]
  },
  {
   "cell_type": "markdown",
   "id": "6c746525",
   "metadata": {},
   "source": [
    "Kimenete:\n",
    "\n",
    "```python\n",
    "t,y\n",
    "```\n",
    "ahol `t` a rács, `y` a rácspontokban felvett közelítő érték."
   ]
  },
  {
   "cell_type": "code",
   "execution_count": 28,
   "id": "5ad67523",
   "metadata": {
    "ExecuteTime": {
     "end_time": "2023-05-10T08:58:11.325380Z",
     "start_time": "2023-05-10T08:58:10.911839Z"
    }
   },
   "outputs": [],
   "source": [
    "import sympy as sy\n",
    "from sympy.abc import X\n",
    "\n",
    "F = sy.Function('F')\n",
    "\n",
    "f = sy.dsolve(eq=sy.Derivative(F(X), X)-5*X*F(X),\n",
    "          ics={F(0) : 1})"
   ]
  },
  {
   "cell_type": "code",
   "execution_count": 38,
   "id": "77b3a88b",
   "metadata": {
    "ExecuteTime": {
     "end_time": "2023-05-10T09:01:54.050142Z",
     "start_time": "2023-05-10T09:01:54.031192Z"
    }
   },
   "outputs": [],
   "source": [
    "f = sy.lambdify(X, f.rhs, 'numpy')"
   ]
  },
  {
   "cell_type": "code",
   "execution_count": 24,
   "id": "5b5f5ece",
   "metadata": {
    "ExecuteTime": {
     "end_time": "2023-05-10T08:55:53.213556Z",
     "start_time": "2023-05-10T08:55:53.200589Z"
    }
   },
   "outputs": [],
   "source": [
    "def exact(t):\n",
    "    return np.exp(0.5*5*t**2)"
   ]
  },
  {
   "cell_type": "code",
   "execution_count": 25,
   "id": "bd1d5622",
   "metadata": {
    "ExecuteTime": {
     "end_time": "2023-05-10T08:55:54.073130Z",
     "start_time": "2023-05-10T08:55:54.063155Z"
    }
   },
   "outputs": [],
   "source": [
    "t = np.array(t)"
   ]
  },
  {
   "cell_type": "code",
   "execution_count": 42,
   "id": "aecf4dde",
   "metadata": {
    "ExecuteTime": {
     "end_time": "2023-05-10T09:03:03.083690Z",
     "start_time": "2023-05-10T09:03:02.942070Z"
    }
   },
   "outputs": [
    {
     "name": "stderr",
     "output_type": "stream",
     "text": [
      "C:\\Users\\Peter Dobrovoczki\\anaconda3\\envs\\notebook\\lib\\site-packages\\numpy\\core\\_asarray.py:171: VisibleDeprecationWarning: Creating an ndarray from ragged nested sequences (which is a list-or-tuple of lists-or-tuples-or ndarrays with different lengths or shapes) is deprecated. If you meant to do this, you must specify 'dtype=object' when creating the ndarray.\n",
      "  return array(a, dtype, copy=False, order=order, subok=True)\n"
     ]
    },
    {
     "data": {
      "image/png": "[encoded data removed]",
      "text/plain": [
       "<Figure size 432x288 with 1 Axes>"
      ]
     },
     "metadata": {
      "needs_background": "light"
     },
     "output_type": "display_data"
    }
   ],
   "source": [
    "plt.plot(t, y, t, f(t))\n",
    "plt.show()"
   ]
  },
  {
   "cell_type": "code",
   "execution_count": 27,
   "id": "8c61dd38",
   "metadata": {
    "ExecuteTime": {
     "end_time": "2023-05-10T08:55:59.324304Z",
     "start_time": "2023-05-10T08:55:59.169205Z"
    }
   },
   "outputs": [
    {
     "name": "stderr",
     "output_type": "stream",
     "text": [
      "C:\\Users\\Peter Dobrovoczki\\anaconda3\\envs\\notebook\\lib\\site-packages\\ipykernel_launcher.py:1: VisibleDeprecationWarning: Creating an ndarray from ragged nested sequences (which is a list-or-tuple of lists-or-tuples-or ndarrays with different lengths or shapes) is deprecated. If you meant to do this, you must specify 'dtype=object' when creating the ndarray.\n",
      "  \"\"\"Entry point for launching an IPython kernel.\n"
     ]
    },
    {
     "data": {
      "text/plain": [
       "[<matplotlib.lines.Line2D at 0x1866ad20fc8>]"
      ]
     },
     "execution_count": 27,
     "metadata": {},
     "output_type": "execute_result"
    },
    {
     "data": {
      "image/png": "[encoded data removed]",
      "text/plain": [
       "<Figure size 432x288 with 1 Axes>"
      ]
     },
     "metadata": {
      "needs_background": "light"
     },
     "output_type": "display_data"
    }
   ],
   "source": [
    "plt.plot(t, y-exact(t))"
   ]
  },
  {
   "cell_type": "markdown",
   "id": "340bc654",
   "metadata": {},
   "source": [
    "# Feladatok\n",
    "\n",
    "A következő feladatokban használd a `numpy` csomagot és idézd fel, mit tanultál a *vektorizáció*ról előző félévben!"
   ]
  },
  {
   "cell_type": "markdown",
   "id": "e20ca8ba",
   "metadata": {},
   "source": [
    "## Tesztfeladat:\n",
    "\n",
    "Telepítsd a `nodepy` csomagot és importáld. Próbáld ki az alábbi tesztfeladaton:\n",
    "\n",
    "$$\n",
    "\\left.\n",
    "\\begin{array}{rcl}\n",
    "    \\dot{y}(t) & = & r\\cdot y(t)\\cdot\\left(1-\\frac{y(t)}{K}\\right)\\\\\n",
    "    y(0) &=& 1\n",
    "\\end{array}\n",
    "\\right\\}\n",
    "$$\n",
    "\n",
    "Legyen $K=83.4772$ és $r=0.977361$, az $f(t,y(t))$ függvény pedig\n",
    "\n",
    "$$\n",
    "    (t,y(t))\\mapsto r\\cdot y(t)\\cdot\\left(1-\\frac{y(t)}{K}\\right).\n",
    "$$\n",
    "\n",
    "Készítsd el a Cauchy-feladat példányt, az explicit Euler megoldó példányt és oldd meg a feladatot! Legyen $t_0=0, T=10, N=100$. Az eredményt vizualizáld is!"
   ]
  },
  {
   "cell_type": "code",
   "execution_count": 124,
   "id": "22e4f5b9",
   "metadata": {
    "ExecuteTime": {
     "end_time": "2021-11-23T10:36:56.890749Z",
     "start_time": "2021-11-23T10:36:56.882770Z"
    }
   },
   "outputs": [],
   "source": [
    "def f(t, y):\n",
    "    #TODO"
   ]
  },
  {
   "cell_type": "code",
   "execution_count": 125,
   "id": "d2c12cfb",
   "metadata": {
    "ExecuteTime": {
     "end_time": "2021-11-23T10:36:58.083098Z",
     "start_time": "2021-11-23T10:36:58.067115Z"
    }
   },
   "outputs": [],
   "source": [
    "my_ivp = #TODO"
   ]
  },
  {
   "cell_type": "markdown",
   "id": "f7d40544",
   "metadata": {},
   "source": [
    "## Implementáld az *Explicit Euler*-módszert!\n",
    "\n",
    "A módszer:\n",
    "\n",
    "$$\n",
    "\\begin{array}{rcl}\n",
    "    y_{n+1} &= &y_n+h\\cdot f(t_n, y_n)\\\\\n",
    "    y_0 &=&y(t_0),\n",
    "\\end{array}\n",
    "$$\n",
    "\n",
    "ahol $h\\in\\mathbb{R}_+$ lépésköz, $t_n$ pedig $t_0+nh$.\n",
    "\n",
    "A függvény bemenete legyen a Cauchy-feladatot leíró $f$ függvény, az $y_0$ kezdeti érték, $n$ a lépések száma és $T$, vagyis az időpont, ahol keressük a keresett függvény értékét. \n",
    "\n",
    "__Tipp: Ha először nem megy általános esetre, ahol $y\\colon\\mathbb{R}\\to\\mathbb{R}^n$, akkor először csak $n=1$ esetre implementáld!__"
   ]
  },
  {
   "cell_type": "code",
   "execution_count": 161,
   "id": "dcc69c76",
   "metadata": {
    "ExecuteTime": {
     "end_time": "2021-11-23T10:44:58.932931Z",
     "start_time": "2021-11-23T10:44:58.914979Z"
    }
   },
   "outputs": [],
   "source": [
    "def EE(#TODO):\n",
    "    # TODO"
   ]
  },
  {
   "cell_type": "markdown",
   "id": "032feb2a",
   "metadata": {},
   "source": [
    "## Hasonlísd össze a megoldást, amit a `nodepy` solverrel kaptál a tesztfeladatra azzal, amit az általad implementált EE solver adott! Vizualizáld a különbséget!"
   ]
  },
  {
   "cell_type": "markdown",
   "id": "c7a5b033",
   "metadata": {},
   "source": [
    "## Próbáld ki a Lotka-Volterra egyenleteken:\n",
    "\n",
    "A Lotka-Volterra egyenletek homogén ragadozó és préda populációk párhuzamos alakulását írja le, feltéve, hogy a két populáció egymással érintkezik. Az egyenletek az alábiak:\n",
    "\n",
    "$$\n",
    "\\left.\n",
    "\\begin{array}{rcl}\n",
    "    \\dot{x}\\left(t\\right)&=&\\alpha x\\left(t\\right) - \\beta x\\left(t\\right)y\\left(t\\right)\\\\\n",
    "    \\dot{y}\\left(t\\right)&=&\\delta x\\left(t\\right)y\\left(t\\right) - \\gamma y\\left(t\\right)\n",
    "\\end{array}\n",
    "\\right\\},\n",
    "$$\n",
    "\n",
    "ahol $x\\left(t\\right)$ a $t$ időpontban a prédák egyedszáma, $y\\left(t\\right)$ a ragadozók egyedszáma, $\\alpha$ a prédák természetes reprodukciós rátája, $\\beta$ a prédák ragadozók általi halálozási rátája, $\\gamma$ a ragadozók halálozási rátája és $\\delta$ a ragadozók növekedési rátája a prédák elejtése mellett.\n",
    "\n",
    "Legyenek a paraméterek $\\alpha = 1, \\beta = 1.5, \\gamma = 3, \\delta = 1$.\n",
    "\n",
    "__Oldd meg a `nodepy` solverrel és a saját solverrel is! A paraméterek:__\n",
    "* $x(0)=5,\\ y(0)=10$,\n",
    "* $t0 = 0,\\ T=10$,\n",
    "* lépések száma: $N=10000$"
   ]
  },
  {
   "cell_type": "code",
   "execution_count": 77,
   "id": "26954151",
   "metadata": {
    "ExecuteTime": {
     "end_time": "2021-11-23T08:43:16.621221Z",
     "start_time": "2021-11-23T08:43:16.608403Z"
    }
   },
   "outputs": [],
   "source": [
    "def LotkaVolterra(t, y):\n",
    "    # TODO"
   ]
  },
  {
   "cell_type": "markdown",
   "id": "87a0d23c",
   "metadata": {},
   "source": [
    "__Oldd meg a `nodepy` explicit Euler solverével és a saját implementációddal is! Vizualizáld a kapott eredményeket!__"
   ]
  }
 ],
 "metadata": {
  "kernelspec": {
   "display_name": "Python 3",
   "language": "python",
   "name": "python3"
  },
  "language_info": {
   "codemirror_mode": {
    "name": "ipython",
    "version": 3
   },
   "file_extension": ".py",
   "mimetype": "text/x-python",
   "name": "python",
   "nbconvert_exporter": "python",
   "pygments_lexer": "ipython3",
   "version": "3.7.10"
  },
  "latex_envs": {
   "LaTeX_envs_menu_present": true,
   "autoclose": true,
   "autocomplete": true,
   "bibliofile": "biblio.bib",
   "cite_by": "apalike",
   "current_citInitial": 1,
   "eqLabelWithNumbers": true,
   "eqNumInitial": 1,
   "hotkeys": {
    "equation": "Ctrl-E",
    "itemize": "Ctrl-I"
   },
   "labels_anchors": false,
   "latex_user_defs": false,
   "report_style_numbering": true,
   "user_envs_cfg": false
  },
  "toc": {
   "base_numbering": 1,
   "nav_menu": {},
   "number_sections": true,
   "sideBar": true,
   "skip_h1_title": false,
   "title_cell": "Table of Contents",
   "title_sidebar": "Contents",
   "toc_cell": false,
   "toc_position": {},
   "toc_section_display": true,
   "toc_window_display": false
  },
  "varInspector": {
   "cols": {
    "lenName": 16,
    "lenType": 16,
    "lenVar": 40
   },
   "kernels_config": {
    "python": {
     "delete_cmd_postfix": "",
     "delete_cmd_prefix": "del ",
     "library": "var_list.py",
     "varRefreshCmd": "print(var_dic_list())"
    },
    "r": {
     "delete_cmd_postfix": ") ",
     "delete_cmd_prefix": "rm(",
     "library": "var_list.r",
     "varRefreshCmd": "cat(var_dic_list()) "
    }
   },
   "types_to_exclude": [
    "module",
    "function",
    "builtin_function_or_method",
    "instance",
    "_Feature"
   ],
   "window_display": false
  }
 },
 "nbformat": 4,
 "nbformat_minor": 5
}
